{
 "cells": [
  {
   "cell_type": "code",
   "execution_count": 9,
   "metadata": {},
   "outputs": [
    {
     "name": "stdout",
     "output_type": "stream",
     "text": [
      "Cadena invertida: drahciR\n"
     ]
    }
   ],
   "source": [
    "def invertir_cadena(cadena):\n",
    "    cadena_invertida = ''\n",
    "    for i in range(len(cadena) - 1, -1, -1):\n",
    "        cadena_invertida += cadena[i]\n",
    "    return cadena_invertida\n",
    "\n",
    "cadena_original = input(\"Ingresa una cadena de caracteres: \")\n",
    "cadena_invertida = invertir_cadena(cadena_original)\n",
    "print(\"Cadena invertida:\", cadena_invertida)\n",
    "\n",
    "\n"
   ]
  }
 ],
 "metadata": {
  "kernelspec": {
   "display_name": "Python 3",
   "language": "python",
   "name": "python3"
  },
  "language_info": {
   "codemirror_mode": {
    "name": "ipython",
    "version": 3
   },
   "file_extension": ".py",
   "mimetype": "text/x-python",
   "name": "python",
   "nbconvert_exporter": "python",
   "pygments_lexer": "ipython3",
   "version": "3.11.0"
  },
  "orig_nbformat": 4
 },
 "nbformat": 4,
 "nbformat_minor": 2
}
