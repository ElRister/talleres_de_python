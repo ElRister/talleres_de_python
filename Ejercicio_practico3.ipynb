{
 "cells": [
  {
   "cell_type": "code",
   "execution_count": 2,
   "metadata": {},
   "outputs": [
    {
     "name": "stdout",
     "output_type": "stream",
     "text": [
      "El número 13 es el más grande de los tres\n"
     ]
    }
   ],
   "source": [
    "num1 = int(input(\"Ingresa él primer número: \"))\n",
    "num2 = int(input(\"Ingresa él segundo número: \"))\n",
    "num3 = int(input(\"Ingresa él tercer número número: \"))\n",
    "\n",
    "def num_mayor(num1, num2, num3):\n",
    "    if num2<num1>num3:\n",
    "        mayor = num1\n",
    "    elif num1<num2>num3:\n",
    "        mayor = num2\n",
    "    elif num2<num3>num1:\n",
    "        mayor = num3\n",
    "    return mayor\n",
    "mayor = num_mayor(num1, num2, num3)\n",
    "print(f\"El número {mayor} es el más grande de los tres\")"
   ]
  }
 ],
 "metadata": {
  "kernelspec": {
   "display_name": "Python 3",
   "language": "python",
   "name": "python3"
  },
  "language_info": {
   "codemirror_mode": {
    "name": "ipython",
    "version": 3
   },
   "file_extension": ".py",
   "mimetype": "text/x-python",
   "name": "python",
   "nbconvert_exporter": "python",
   "pygments_lexer": "ipython3",
   "version": "3.11.0"
  },
  "orig_nbformat": 4
 },
 "nbformat": 4,
 "nbformat_minor": 2
}
