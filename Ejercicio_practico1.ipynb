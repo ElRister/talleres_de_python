{
 "cells": [
  {
   "cell_type": "code",
   "execution_count": null,
   "metadata": {},
   "outputs": [],
   "source": [
    "Nombre = input(\"Ingresa tu nombre completo: \")\n",
    "Clave = int(input(\"Ingresa el numero de la clave de tu departamento: \"))\n",
    "Antiguedad = int(input(\"Ingresa la cantidad de años que llevas: \"))\n",
    "\n",
    "Vacaciones = 0\n",
    "\n",
    "if Clave == 1:\n",
    "  if Antiguedad == 1:\n",
    "    Vacaciones = 6\n",
    "  elif 1 < Antiguedad < 7:\n",
    "    Vacaciones = 14\n",
    "  elif Antiguedad > 7:\n",
    "    Vacaciones = 20\n",
    "\n",
    "if Clave == 2:\n",
    "  if Antiguedad == 1:\n",
    "    Vacaciones = 7\n",
    "  elif 1 < Antiguedad < 7:\n",
    "    Vacaciones = 15\n",
    "  elif Antiguedad > 7:\n",
    "    Vacaciones = 22\n",
    "\n",
    "if Clave == 3:\n",
    "  if Antiguedad == 1:\n",
    "    Vacaciones = 10\n",
    "  elif 1 < Antiguedad < 7:\n",
    "    Vacaciones = 20\n",
    "  elif Antiguedad > 7:\n",
    "    Vacaciones = 30\n",
    "    \n",
    "print(Nombre ,\"Se te asiganaron\", Vacaciones, \"dias de vacaciones\")\n",
    "    "
   ]
  }
 ],
 "metadata": {
  "language_info": {
   "name": "python"
  },
  "orig_nbformat": 4
 },
 "nbformat": 4,
 "nbformat_minor": 2
}
