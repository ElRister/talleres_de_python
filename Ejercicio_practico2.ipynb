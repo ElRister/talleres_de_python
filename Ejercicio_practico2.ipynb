{
 "cells": [
  {
   "cell_type": "code",
   "execution_count": null,
   "metadata": {},
   "outputs": [],
   "source": [
    "Num = int(input(\"Ingresa un número entero: \"))\n",
    "def Definir_par(Num):\n",
    "  Resultado = \"\"\n",
    "\n",
    "  if Num % 2 == 0:\n",
    "    Resultado = \"par\"\n",
    "  else:\n",
    "    Resultado = \"impar\"\n",
    "  return Resultado\n",
    "\n",
    "Resultado = Definir_par(Num)\n",
    "print(f\"El número {Num} es {Resultado}.\")"
   ]
  }
 ],
 "metadata": {
  "language_info": {
   "name": "python"
  },
  "orig_nbformat": 4
 },
 "nbformat": 4,
 "nbformat_minor": 2
}
