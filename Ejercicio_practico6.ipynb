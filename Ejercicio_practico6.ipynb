{
 "cells": [
  {
   "cell_type": "code",
   "execution_count": 6,
   "metadata": {},
   "outputs": [
    {
     "name": "stdout",
     "output_type": "stream",
     "text": [
      "Hola soy Richard\n",
      "Hola  Richard\n"
     ]
    }
   ],
   "source": [
    "cadena = input(\"Ingrese una oración o cadena de carácteres: \")\n",
    "print(cadena)\n",
    "palabra = input(\"Ingrese la palabra o cadena de caracteres que quiere eliminar: \")\n",
    "nueva = cadena.replace(f\"{palabra}\",\"\")\n",
    "print(nueva)"
   ]
  }
 ],
 "metadata": {
  "kernelspec": {
   "display_name": "Python 3",
   "language": "python",
   "name": "python3"
  },
  "language_info": {
   "codemirror_mode": {
    "name": "ipython",
    "version": 3
   },
   "file_extension": ".py",
   "mimetype": "text/x-python",
   "name": "python",
   "nbconvert_exporter": "python",
   "pygments_lexer": "ipython3",
   "version": "3.11.0"
  },
  "orig_nbformat": 4
 },
 "nbformat": 4,
 "nbformat_minor": 2
}
