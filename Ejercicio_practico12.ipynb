{
 "cells": [
  {
   "cell_type": "code",
   "execution_count": 1,
   "metadata": {},
   "outputs": [
    {
     "name": "stdout",
     "output_type": "stream",
     "text": [
      "Lista sin primer y último elemento: [2, 3, 4]\n",
      "Elementos eliminados: [1, 5]\n"
     ]
    }
   ],
   "source": [
    "def eliminar_primer_ultimo_elemento(lista):\n",
    "    if len(lista) < 2:\n",
    "        print(\"La lista debe contener al menos dos elementos.\")\n",
    "        return [], []\n",
    "\n",
    "    # Elimina el primer y último elemento de la lista\n",
    "    elementos_eliminados = [lista.pop(0), lista.pop()]\n",
    "\n",
    "    return lista, elementos_eliminados\n",
    "\n",
    "if __name__ == \"__main__\":\n",
    "    numeros = [1, 2, 3, 4, 5]\n",
    "\n",
    "    # Eliminar primer y último elemento\n",
    "    numeros_sin_extremos, elementos_eliminados = eliminar_primer_ultimo_elemento(numeros)\n",
    "\n",
    "    # Mostrar las listas resultantes\n",
    "    print(\"Lista sin primer y último elemento:\", numeros_sin_extremos)\n",
    "    print(\"Elementos eliminados:\", elementos_eliminados)\n"
   ]
  }
 ],
 "metadata": {
  "kernelspec": {
   "display_name": "Python 3",
   "language": "python",
   "name": "python3"
  },
  "language_info": {
   "codemirror_mode": {
    "name": "ipython",
    "version": 3
   },
   "file_extension": ".py",
   "mimetype": "text/x-python",
   "name": "python",
   "nbconvert_exporter": "python",
   "pygments_lexer": "ipython3",
   "version": "3.11.0"
  }
 },
 "nbformat": 4,
 "nbformat_minor": 2
}
