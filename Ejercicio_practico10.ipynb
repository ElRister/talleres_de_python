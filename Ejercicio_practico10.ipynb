{
 "cells": [
  {
   "cell_type": "code",
   "execution_count": 1,
   "metadata": {},
   "outputs": [
    {
     "name": "stdout",
     "output_type": "stream",
     "text": [
      "Lista: [8, 5, 1, 6]\n",
      "Suma de los elementos: 20\n"
     ]
    }
   ],
   "source": [
    "def obtener_lista():\n",
    "    longitud = int(input(\"Ingrese la longitud de la lista: \"))\n",
    "    lista = []\n",
    "\n",
    "    for i in range(longitud):\n",
    "        elemento = int(input(f\"Ingrese el elemento {i + 1}: \"))\n",
    "        lista.append(elemento)\n",
    "\n",
    "    return lista\n",
    "\n",
    "def mostrar_lista_y_suma(lista):\n",
    "    print(\"Lista:\", lista)\n",
    "    suma = sum(lista)\n",
    "    print(\"Suma de los elementos:\", suma)\n",
    "\n",
    "if __name__ == \"__main__\":\n",
    "    lista_obtenida = obtener_lista()\n",
    "    mostrar_lista_y_suma(lista_obtenida)\n"
   ]
  }
 ],
 "metadata": {
  "kernelspec": {
   "display_name": "Python 3",
   "language": "python",
   "name": "python3"
  },
  "language_info": {
   "codemirror_mode": {
    "name": "ipython",
    "version": 3
   },
   "file_extension": ".py",
   "mimetype": "text/x-python",
   "name": "python",
   "nbconvert_exporter": "python",
   "pygments_lexer": "ipython3",
   "version": "3.11.0"
  }
 },
 "nbformat": 4,
 "nbformat_minor": 2
}
