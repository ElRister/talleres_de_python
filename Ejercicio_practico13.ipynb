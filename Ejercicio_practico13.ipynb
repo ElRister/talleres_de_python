{
 "cells": [
  {
   "cell_type": "code",
   "execution_count": 1,
   "metadata": {},
   "outputs": [
    {
     "name": "stdout",
     "output_type": "stream",
     "text": [
      "\n",
      "Matriz resultante:\n",
      "[1, 2, 3]\n",
      "[4, 5, 6]\n"
     ]
    }
   ],
   "source": [
    "def crear_matriz():\n",
    "    num_filas = int(input(\"Ingrese el número de filas: \"))\n",
    "    num_columnas = int(input(\"Ingrese el número de columnas: \"))\n",
    "    \n",
    "    matriz = []\n",
    "    \n",
    "    for i in range(num_filas):\n",
    "        fila = []\n",
    "        for j in range(num_columnas):\n",
    "            valor = int(input(f\"Ingrese el valor para la posición [{i + 1}][{j + 1}]: \"))\n",
    "            fila.append(valor)\n",
    "        matriz.append(fila)\n",
    "    \n",
    "    print(\"\\nMatriz resultante:\")\n",
    "    for fila in matriz:\n",
    "        print(fila)\n",
    "\n",
    "if __name__ == \"__main__\":\n",
    "    crear_matriz()\n"
   ]
  }
 ],
 "metadata": {
  "kernelspec": {
   "display_name": "Python 3",
   "language": "python",
   "name": "python3"
  },
  "language_info": {
   "codemirror_mode": {
    "name": "ipython",
    "version": 3
   },
   "file_extension": ".py",
   "mimetype": "text/x-python",
   "name": "python",
   "nbconvert_exporter": "python",
   "pygments_lexer": "ipython3",
   "version": "3.11.0"
  }
 },
 "nbformat": 4,
 "nbformat_minor": 2
}
