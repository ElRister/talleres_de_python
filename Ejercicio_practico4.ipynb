{
 "cells": [
  {
   "cell_type": "code",
   "execution_count": 3,
   "metadata": {},
   "outputs": [
    {
     "name": "stdout",
     "output_type": "stream",
     "text": [
      "2\n"
     ]
    }
   ],
   "source": [
    "numero = int(input(\"Ingrese el primer número: \"))\n",
    "operacion = int(input(\"Ingrese él número de la operación que desea realizar: \\n 1. Suma \\n 2. Resta \\n 3. Multiplicación \\n 4. División \\n 5. División entera \\n 6. exponente \\n 7. módulo\"))\n",
    "if operacion == 1:\n",
    "    numero += int(input(\"Ingrese el segundo número: \"))\n",
    "elif operacion == 2:\n",
    "    numero -= int(input(\"Ingrese el segundo número: \"))\n",
    "elif operacion == 3:\n",
    "    numero *= int(input(\"Ingrese el segundo número: \"))\n",
    "elif operacion == 4:\n",
    "    numero /= int(input(\"Ingrese el segundo número: \"))\n",
    "elif operacion == 5:\n",
    "    numero //= int(input(\"Ingrese el segundo número: \"))\n",
    "elif operacion == 6:\n",
    "    numero **= int(input(\"Ingrese el segundo número: \"))\n",
    "elif operacion == 7:\n",
    "    numero %= int(input(\"Ingrese el segundo número: \"))\n",
    "\n",
    "print(numero)"
   ]
  }
 ],
 "metadata": {
  "kernelspec": {
   "display_name": "Python 3",
   "language": "python",
   "name": "python3"
  },
  "language_info": {
   "codemirror_mode": {
    "name": "ipython",
    "version": 3
   },
   "file_extension": ".py",
   "mimetype": "text/x-python",
   "name": "python",
   "nbconvert_exporter": "python",
   "pygments_lexer": "ipython3",
   "version": "3.11.0"
  },
  "orig_nbformat": 4
 },
 "nbformat": 4,
 "nbformat_minor": 2
}
