{
 "cells": [
  {
   "cell_type": "code",
   "execution_count": 1,
   "metadata": {},
   "outputs": [
    {
     "name": "stdout",
     "output_type": "stream",
     "text": [
      "Lista actual: ['A', 'B', 'b', 'c', 'E', 'E', 'f']\n",
      "Lista resultante después de eliminar el elemento: ['A', 'B', 'b', 'E', 'E', 'f']\n"
     ]
    }
   ],
   "source": [
    "def eliminar_elemento(lista, elemento):\n",
    "    elemento_minusculas = elemento.lower()\n",
    "    \n",
    "    nueva_lista = [x for x in lista if x.lower() != elemento_minusculas]\n",
    "    \n",
    "    return nueva_lista\n",
    "\n",
    "if __name__ == \"__main__\":\n",
    "    lista = [\"A\", \"B\", \"b\", \"c\", \"E\", \"E\", \"f\"]\n",
    "\n",
    "    print(\"Lista actual:\", lista)\n",
    "\n",
    "    elemento_a_eliminar = input(\"Introduce el elemento que deseas eliminar: \")\n",
    "\n",
    "    lista_resultante = eliminar_elemento(lista, elemento_a_eliminar)\n",
    "\n",
    "    print(\"Lista resultante después de eliminar el elemento:\", lista_resultante)\n",
    "\n"
   ]
  }
 ],
 "metadata": {
  "kernelspec": {
   "display_name": "Python 3",
   "language": "python",
   "name": "python3"
  },
  "language_info": {
   "codemirror_mode": {
    "name": "ipython",
    "version": 3
   },
   "file_extension": ".py",
   "mimetype": "text/x-python",
   "name": "python",
   "nbconvert_exporter": "python",
   "pygments_lexer": "ipython3",
   "version": "3.11.0"
  }
 },
 "nbformat": 4,
 "nbformat_minor": 2
}
