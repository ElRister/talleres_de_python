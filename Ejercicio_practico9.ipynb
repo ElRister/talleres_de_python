{
 "cells": [
  {
   "cell_type": "code",
   "execution_count": 5,
   "metadata": {},
   "outputs": [
    {
     "name": "stdout",
     "output_type": "stream",
     "text": [
      "Frase sin vocales: Hl chcs\n"
     ]
    }
   ],
   "source": [
    "def eliminar_vocales(frase):\n",
    "    vocales = ['a', 'e', 'i', 'o', 'u', 'A', 'E', 'I', 'O', 'U']\n",
    "    \n",
    "    frase_sin_vocales = ''.join([char for char in frase if char not in vocales])\n",
    "    \n",
    "    return frase_sin_vocales\n",
    "\n",
    "\n",
    "def main():\n",
    "    frase = input(\"Ingresa una frase: \")\n",
    "    \n",
    "    caracter = input(\"Ingresa un carácter: \")\n",
    "    \n",
    "    \n",
    "    caracter = caracter.lower()\n",
    "    \n",
    "    if caracter in frase:\n",
    "        print(\"El carácter '{}' está en la frase.\".format(caracter))\n",
    "        return\n",
    "    \n",
    "    frase_sin_vocales = eliminar_vocales(frase)\n",
    "    \n",
    "    print(\"Frase sin vocales: {}\".format(frase_sin_vocales))\n",
    "\n",
    "\n",
    "if __name__ == \"__main__\":\n",
    "    main()\n"
   ]
  }
 ],
 "metadata": {
  "kernelspec": {
   "display_name": "Python 3",
   "language": "python",
   "name": "python3"
  },
  "language_info": {
   "codemirror_mode": {
    "name": "ipython",
    "version": 3
   },
   "file_extension": ".py",
   "mimetype": "text/x-python",
   "name": "python",
   "nbconvert_exporter": "python",
   "pygments_lexer": "ipython3",
   "version": "3.11.0"
  }
 },
 "nbformat": 4,
 "nbformat_minor": 2
}
